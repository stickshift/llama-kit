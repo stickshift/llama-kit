{
 "cells": [
  {
   "cell_type": "markdown",
   "id": "71414678-dc04-4683-a21a-6e0a7e4f02e0",
   "metadata": {},
   "source": [
    "# MMLU Benchmark\n",
    "\n",
    "> Evaluate Llama models using MMLU"
   ]
  },
  {
   "cell_type": "markdown",
   "id": "a484ffc5-70ac-4e8a-8150-ce78cec7554c",
   "metadata": {},
   "source": [
    "# Parameters"
   ]
  },
  {
   "cell_type": "code",
   "execution_count": 1,
   "id": "2bfe9602-f117-432a-aa62-2488a33f66ed",
   "metadata": {},
   "outputs": [],
   "source": [
    "n_iterations = 3\n",
    "n_questions = 500\n",
    "checkpoint = \"Llama3.2-11B-Vision-Instruct\""
   ]
  },
  {
   "cell_type": "markdown",
   "id": "6d0df75f-9eda-441a-b0d6-279acda5bdac",
   "metadata": {},
   "source": [
    "# Setup"
   ]
  },
  {
   "cell_type": "code",
   "execution_count": 2,
   "id": "b74b4b78-4b63-44cb-8664-eec420339188",
   "metadata": {},
   "outputs": [],
   "source": [
    "# Imports\n",
    "import logging\n",
    "from logging import StreamHandler, Formatter\n",
    "import os\n",
    "from pathlib import Path\n",
    "from random import sample\n",
    "import sys\n",
    "from typing import Iterator\n",
    "\n",
    "from matplotlib import pyplot as plt\n",
    "import torch\n",
    "from torch import nn\n",
    "from torch.nn import functional as F\n",
    "from tqdm.auto import trange, tqdm\n",
    "\n",
    "from llama_kit.model import load_config, load_parameters, load_tokenizer, render_prompt, unpack_parameters, LlamaHead, LlamaModel, ModelConfig\n",
    "from llama_kit.benchmarks.mmlu import (\n",
    "    Dataset,\n",
    "    load_dataset, \n",
    "    display_questions, \n",
    "    generate_prompt, \n",
    "    select_question, \n",
    "    Answer, \n",
    "    Answers, \n",
    "    Question,\n",
    "    Questions, \n",
    "    OPTIONS, \n",
    "    evaluate_generator, \n",
    "    MMLUGenerator,\n",
    "    filter_questions,\n",
    ")"
   ]
  },
  {
   "cell_type": "code",
   "execution_count": 3,
   "id": "68698d05-8af2-42fc-9589-18b1b8b5a1ac",
   "metadata": {},
   "outputs": [],
   "source": [
    "# Configure\n",
    "datasets_path = Path(os.environ[\"PROJECT_ROOT\"]) / \".build\" / \"datasets\"\n",
    "mmlu_dataset_path = datasets_path / \"mmlu\"\n",
    "\n",
    "# Logging\n",
    "handler = StreamHandler(sys.stderr)\n",
    "handler.setFormatter(Formatter(\"%(asctime)s - %(levelname)s - %(name)s - %(message)s\"))\n",
    "logging.root.addHandler(handler)\n",
    "logging.root.setLevel(logging.INFO)"
   ]
  },
  {
   "cell_type": "markdown",
   "id": "021c70fc-11f6-4533-8d6e-27e91050be8f",
   "metadata": {},
   "source": [
    "# Dataset"
   ]
  },
  {
   "cell_type": "code",
   "execution_count": 4,
   "id": "31e50caf-9a16-4d8a-b36d-b9e8cdc1c0ae",
   "metadata": {},
   "outputs": [
    {
     "name": "stdout",
     "output_type": "stream",
     "text": [
      "Loaded 14042 questions, 285 examples, 57 categories\n"
     ]
    }
   ],
   "source": [
    "dataset = load_dataset(mmlu_dataset_path)\n",
    "print(f\"Loaded {len(dataset.questions)} questions, {len(dataset.examples)} examples, {len(dataset.categories)} categories\")"
   ]
  },
  {
   "cell_type": "markdown",
   "id": "39d5907d-024c-4f60-9924-ebec5c8793cb",
   "metadata": {},
   "source": [
    "# Generator"
   ]
  },
  {
   "cell_type": "code",
   "execution_count": 5,
   "id": "779a759d-a217-4628-ab20-7169b27cffed",
   "metadata": {},
   "outputs": [
    {
     "data": {
      "text/plain": [
       "<All keys matched successfully>"
      ]
     },
     "execution_count": 5,
     "metadata": {},
     "output_type": "execute_result"
    }
   ],
   "source": [
    "# Load checkpoint config\n",
    "config = load_config(checkpoint)\n",
    "\n",
    "# Initialize generator\n",
    "generator = MMLUGenerator(config)\n",
    "generator.load_state_dict(load_parameters(config))"
   ]
  },
  {
   "cell_type": "markdown",
   "id": "2eddcc6b-672e-48dc-8203-65d1a8a08828",
   "metadata": {},
   "source": [
    "# Benchmark"
   ]
  },
  {
   "cell_type": "code",
   "execution_count": 6,
   "id": "9e2bdd2a-1cc2-47d1-b33f-ce7c1da1f060",
   "metadata": {},
   "outputs": [
    {
     "data": {
      "application/vnd.jupyter.widget-view+json": {
       "model_id": "fb7db5c78d3c46509ef6bebb8d6f8522",
       "version_major": 2,
       "version_minor": 0
      },
      "text/plain": [
       "Iterations:   0%|          | 0/3 [00:00<?, ?it/s]"
      ]
     },
     "metadata": {},
     "output_type": "display_data"
    },
    {
     "data": {
      "application/vnd.jupyter.widget-view+json": {
       "model_id": "901ee8363b314d9a83e296f6ca6cd4ad",
       "version_major": 2,
       "version_minor": 0
      },
      "text/plain": [
       "Questions:   0%|          | 0/500 [00:00<?, ?it/s]"
      ]
     },
     "metadata": {},
     "output_type": "display_data"
    },
    {
     "data": {
      "application/vnd.jupyter.widget-view+json": {
       "model_id": "9846f6fa9d234dc3bf24a153fb2bff02",
       "version_major": 2,
       "version_minor": 0
      },
      "text/plain": [
       "Questions:   0%|          | 0/500 [00:00<?, ?it/s]"
      ]
     },
     "metadata": {},
     "output_type": "display_data"
    },
    {
     "data": {
      "application/vnd.jupyter.widget-view+json": {
       "model_id": "79f9b1c01750466a9f1af35afa7c1f07",
       "version_major": 2,
       "version_minor": 0
      },
      "text/plain": [
       "Questions:   0%|          | 0/500 [00:00<?, ?it/s]"
      ]
     },
     "metadata": {},
     "output_type": "display_data"
    }
   ],
   "source": [
    "scores = []\n",
    "\n",
    "for _ in trange(n_iterations, desc=\"Iterations\"):\n",
    "\n",
    "    # Sample questions\n",
    "    questions = sample(dataset.questions, k=n_questions)\n",
    "\n",
    "    # Evaluate generator w/ 0-shot\n",
    "    score = evaluate_generator(\n",
    "        generator,\n",
    "        questions=tqdm(questions, desc=\"Questions\", leave=False),\n",
    "        n_shots=0,\n",
    "        examples=dataset.examples,\n",
    "    )\n",
    "\n",
    "    scores.append(score)"
   ]
  },
  {
   "cell_type": "code",
   "execution_count": 7,
   "id": "ce6f5cca-7e91-4e2c-8fba-af0d6e06bc0b",
   "metadata": {},
   "outputs": [
    {
     "data": {
      "image/png": "[encoded data removed]",
      "text/plain": [
       "<Figure size 640x480 with 1 Axes>"
      ]
     },
     "metadata": {},
     "output_type": "display_data"
    }
   ],
   "source": [
    "plt.boxplot(scores)\n",
    "plt.show()"
   ]
  },
  {
   "cell_type": "code",
   "execution_count": null,
   "id": "6fa84db9-f38e-41f7-9f72-2dd7f72b8bf7",
   "metadata": {},
   "outputs": [],
   "source": []
  }
 ],
 "metadata": {
  "kernelspec": {
   "display_name": "Python 3 (ipykernel)",
   "language": "python",
   "name": "python3"
  },
  "language_info": {
   "codemirror_mode": {
    "name": "ipython",
    "version": 3
   },
   "file_extension": ".py",
   "mimetype": "text/x-python",
   "name": "python",
   "nbconvert_exporter": "python",
   "pygments_lexer": "ipython3",
   "version": "3.12.6"
  }
 },
 "nbformat": 4,
 "nbformat_minor": 5
}
