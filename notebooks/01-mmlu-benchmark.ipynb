{
 "cells": [
  {
   "cell_type": "markdown",
   "id": "71414678-dc04-4683-a21a-6e0a7e4f02e0",
   "metadata": {},
   "source": [
    "# MMLU Benchmark\n",
    "\n",
    "> Evaluate Llama models using MMLU"
   ]
  },
  {
   "cell_type": "markdown",
   "id": "a484ffc5-70ac-4e8a-8150-ce78cec7554c",
   "metadata": {},
   "source": [
    "# Parameters"
   ]
  },
  {
   "cell_type": "code",
   "execution_count": 3,
   "id": "2bfe9602-f117-432a-aa62-2488a33f66ed",
   "metadata": {},
   "outputs": [],
   "source": [
    "n_iterations = 3\n",
    "n_questions = 25\n",
    "n_shots = 0\n",
    "max_sequence_len = 1000\n",
    "checkpoint = \"Llama3.2-3B-Instruct\""
   ]
  },
  {
   "cell_type": "markdown",
   "id": "6d0df75f-9eda-441a-b0d6-279acda5bdac",
   "metadata": {},
   "source": [
    "# Setup"
   ]
  },
  {
   "cell_type": "code",
   "execution_count": 17,
   "id": "b74b4b78-4b63-44cb-8664-eec420339188",
   "metadata": {},
   "outputs": [],
   "source": [
    "# Imports\n",
    "import logging\n",
    "from logging import StreamHandler, Formatter\n",
    "import os\n",
    "from pathlib import Path\n",
    "from random import sample\n",
    "import sys\n",
    "from typing import Iterator\n",
    "\n",
    "from matplotlib import pyplot as plt\n",
    "import torch\n",
    "from torch import nn\n",
    "from torch.nn import functional as F\n",
    "from tqdm.auto import trange, tqdm\n",
    "\n",
    "from llama_kit.model import load_config, load_parameters, load_tokenizer, render_prompt, unpack_parameters, LlamaHead, LlamaModel, ModelConfig\n",
    "from llama_kit.benchmarks.mmlu import (\n",
    "    Dataset,\n",
    "    load_dataset, \n",
    "    display_questions, \n",
    "    generate_prompt, \n",
    "    select_question, \n",
    "    Answer, \n",
    "    Answers, \n",
    "    Question,\n",
    "    Questions, \n",
    "    OPTIONS, \n",
    "    evaluate_generator, \n",
    "    MMLUGenerator,\n",
    "    filter_questions,\n",
    ")"
   ]
  },
  {
   "cell_type": "code",
   "execution_count": 5,
   "id": "68698d05-8af2-42fc-9589-18b1b8b5a1ac",
   "metadata": {},
   "outputs": [],
   "source": [
    "# Configure\n",
    "datasets_path = Path(os.environ[\"PROJECT_ROOT\"]) / \".build\" / \"datasets\"\n",
    "mmlu_dataset_path = datasets_path / \"mmlu\"\n",
    "\n",
    "# Logging\n",
    "handler = StreamHandler(sys.stderr)\n",
    "handler.setFormatter(Formatter(\"%(asctime)s - %(levelname)s - %(name)s - %(message)s\"))\n",
    "logging.root.addHandler(handler)\n",
    "logging.root.setLevel(logging.INFO)"
   ]
  },
  {
   "cell_type": "markdown",
   "id": "021c70fc-11f6-4533-8d6e-27e91050be8f",
   "metadata": {},
   "source": [
    "# Dataset"
   ]
  },
  {
   "cell_type": "code",
   "execution_count": 6,
   "id": "31e50caf-9a16-4d8a-b36d-b9e8cdc1c0ae",
   "metadata": {},
   "outputs": [
    {
     "name": "stdout",
     "output_type": "stream",
     "text": [
      "Loaded 14042 questions, 285 examples, 57 categories\n"
     ]
    }
   ],
   "source": [
    "dataset = load_dataset(mmlu_dataset_path)\n",
    "print(f\"Loaded {len(dataset.questions)} questions, {len(dataset.examples)} examples, {len(dataset.categories)} categories\")"
   ]
  },
  {
   "cell_type": "markdown",
   "id": "39d5907d-024c-4f60-9924-ebec5c8793cb",
   "metadata": {},
   "source": [
    "# Generator"
   ]
  },
  {
   "cell_type": "code",
   "execution_count": 7,
   "id": "779a759d-a217-4628-ab20-7169b27cffed",
   "metadata": {},
   "outputs": [
    {
     "data": {
      "text/plain": [
       "<All keys matched successfully>"
      ]
     },
     "execution_count": 7,
     "metadata": {},
     "output_type": "execute_result"
    }
   ],
   "source": [
    "# Load checkpoint config\n",
    "config = load_config(checkpoint)\n",
    "\n",
    "# Initialize generator\n",
    "generator = MMLUGenerator(config)\n",
    "generator.load_state_dict(load_parameters(config))"
   ]
  },
  {
   "cell_type": "markdown",
   "id": "7a03b069-d2c3-42aa-847c-427e3097c0d4",
   "metadata": {},
   "source": [
    "# Data Engineering"
   ]
  },
  {
   "cell_type": "code",
   "execution_count": 8,
   "id": "a0a30ab2-b325-4246-a2cf-e5930945c710",
   "metadata": {},
   "outputs": [
    {
     "name": "stderr",
     "output_type": "stream",
     "text": [
      "2024-12-17 12:33:12,086 - INFO - llama_kit.benchmarks.mmlu - Filtered out 2840 of 14042 questions. 11202 remaining.\n"
     ]
    },
    {
     "name": "stdout",
     "output_type": "stream",
     "text": [
      "Kept 11202 questions, 285 examples, 57 categories\n"
     ]
    }
   ],
   "source": [
    "# Discard questions w/ 5-shot prompts that exceed max sequence length\n",
    "questions = filter_questions(\n",
    "    config,\n",
    "    dataset.questions, \n",
    "    max_sequence_len, \n",
    "    5, \n",
    "    dataset.examples,\n",
    ")\n",
    "\n",
    "dataset = Dataset(questions, dataset.examples, dataset.categories)\n",
    "print(f\"Kept {len(dataset.questions)} questions, {len(dataset.examples)} examples, {len(dataset.categories)} categories\")"
   ]
  },
  {
   "cell_type": "markdown",
   "id": "521d8920-0037-4905-ab83-4ed8698e307d",
   "metadata": {},
   "source": [
    "# Handpicked Question"
   ]
  },
  {
   "cell_type": "code",
   "execution_count": 9,
   "id": "eefd4f84-e54e-4b85-8f00-18a7b5802db5",
   "metadata": {},
   "outputs": [
    {
     "data": {
      "text/html": [
       "<div>\n",
       "<style scoped>\n",
       "    .dataframe tbody tr th:only-of-type {\n",
       "        vertical-align: middle;\n",
       "    }\n",
       "\n",
       "    .dataframe tbody tr th {\n",
       "        vertical-align: top;\n",
       "    }\n",
       "\n",
       "    .dataframe thead th {\n",
       "        text-align: right;\n",
       "    }\n",
       "</style>\n",
       "<table border=\"1\" class=\"dataframe\">\n",
       "  <thead>\n",
       "    <tr style=\"text-align: right;\">\n",
       "      <th></th>\n",
       "      <th>qid</th>\n",
       "      <th>category</th>\n",
       "      <th>question</th>\n",
       "      <th>A</th>\n",
       "      <th>B</th>\n",
       "      <th>C</th>\n",
       "      <th>D</th>\n",
       "      <th>answer</th>\n",
       "    </tr>\n",
       "  </thead>\n",
       "  <tbody>\n",
       "    <tr>\n",
       "      <th>0</th>\n",
       "      <td>7779</td>\n",
       "      <td>miscellaneous</td>\n",
       "      <td>What country was once ruled by shoguns?</td>\n",
       "      <td>China</td>\n",
       "      <td>Japan</td>\n",
       "      <td>North Korea</td>\n",
       "      <td>Taiwan</td>\n",
       "      <td>B</td>\n",
       "    </tr>\n",
       "  </tbody>\n",
       "</table>\n",
       "</div>"
      ],
      "text/plain": [
       "    qid       category                                 question      A      B  \\\n",
       "0  7779  miscellaneous  What country was once ruled by shoguns?  China  Japan   \n",
       "\n",
       "             C       D answer  \n",
       "0  North Korea  Taiwan      B  "
      ]
     },
     "metadata": {},
     "output_type": "display_data"
    }
   ],
   "source": [
    "questions = [select_question(dataset.questions, qid=7779)]\n",
    "display_questions(questions)"
   ]
  },
  {
   "cell_type": "code",
   "execution_count": 10,
   "id": "4f56359a-5cdc-49fc-8207-4735b6a01502",
   "metadata": {},
   "outputs": [
    {
     "data": {
      "text/plain": [
       "(Message(role='system', content='You are a student answering multiple choice questions on an exam. Each question has 4 options A, B, C, D. There will be 1 example questions followed by a test question. Your job is to answer the test question.'),\n",
       " Message(role='user', content='# Instructions\\n\\nThe following are multiple choice questions about miscellaneous.'),\n",
       " Message(role='user', content='# Example Questions\\n\\nQuestion: How many axles does a standard automobile have?\\n\\nOptions:\\n  A) one\\n  B) two\\n  C) four\\n  D) eight\\n\\nAnswer: B\\n\\n'),\n",
       " Message(role='user', content='# Test Question\\n\\nQuestion: What country was once ruled by shoguns?\\n\\nOptions:\\n  A) China\\n  B) Japan\\n  C) North Korea\\n  D) Taiwan\\n\\nAnswer: '))"
      ]
     },
     "execution_count": 10,
     "metadata": {},
     "output_type": "execute_result"
    }
   ],
   "source": [
    "generate_prompt(questions[0], n_shots=1, examples=dataset.examples)"
   ]
  },
  {
   "cell_type": "code",
   "execution_count": 11,
   "id": "f1ce6d8a-ebcf-4135-b2c0-997d971ed6c9",
   "metadata": {},
   "outputs": [
    {
     "data": {
      "text/plain": [
       "100.0"
      ]
     },
     "execution_count": 11,
     "metadata": {},
     "output_type": "execute_result"
    }
   ],
   "source": [
    "score = evaluate_generator(generator, questions=questions, n_shots=n_shots, examples=dataset.examples)\n",
    "score"
   ]
  },
  {
   "cell_type": "markdown",
   "id": "2eddcc6b-672e-48dc-8203-65d1a8a08828",
   "metadata": {},
   "source": [
    "# Random Sample of Questions"
   ]
  },
  {
   "cell_type": "code",
   "execution_count": 12,
   "id": "9e2bdd2a-1cc2-47d1-b33f-ce7c1da1f060",
   "metadata": {},
   "outputs": [
    {
     "data": {
      "text/html": [
       "<div>\n",
       "<style scoped>\n",
       "    .dataframe tbody tr th:only-of-type {\n",
       "        vertical-align: middle;\n",
       "    }\n",
       "\n",
       "    .dataframe tbody tr th {\n",
       "        vertical-align: top;\n",
       "    }\n",
       "\n",
       "    .dataframe thead th {\n",
       "        text-align: right;\n",
       "    }\n",
       "</style>\n",
       "<table border=\"1\" class=\"dataframe\">\n",
       "  <thead>\n",
       "    <tr style=\"text-align: right;\">\n",
       "      <th></th>\n",
       "      <th>qid</th>\n",
       "      <th>category</th>\n",
       "      <th>question</th>\n",
       "      <th>A</th>\n",
       "      <th>B</th>\n",
       "      <th>C</th>\n",
       "      <th>D</th>\n",
       "      <th>answer</th>\n",
       "    </tr>\n",
       "  </thead>\n",
       "  <tbody>\n",
       "    <tr>\n",
       "      <th>0</th>\n",
       "      <td>12605</td>\n",
       "      <td>professional psychology</td>\n",
       "      <td>\"You would use a \"\"multitrait-multimethod matr...</td>\n",
       "      <td>compare a test''s predictive and concurrent va...</td>\n",
       "      <td>determine if a test has adequate convergent an...</td>\n",
       "      <td>identify the common factors underlying a set o...</td>\n",
       "      <td>test hypotheses about the causal relationships...</td>\n",
       "      <td>B</td>\n",
       "    </tr>\n",
       "    <tr>\n",
       "      <th>1</th>\n",
       "      <td>6952</td>\n",
       "      <td>management</td>\n",
       "      <td>What is a Gantt chart a type of?</td>\n",
       "      <td>Work flow design</td>\n",
       "      <td>Work schedule design</td>\n",
       "      <td>Work rate design</td>\n",
       "      <td>Work output design</td>\n",
       "      <td>B</td>\n",
       "    </tr>\n",
       "    <tr>\n",
       "      <th>2</th>\n",
       "      <td>12908</td>\n",
       "      <td>professional psychology</td>\n",
       "      <td>Which of the following is not represented in D...</td>\n",
       "      <td>Tolerance</td>\n",
       "      <td>Withdrawal</td>\n",
       "      <td>Legal problems</td>\n",
       "      <td>Lying</td>\n",
       "      <td>C</td>\n",
       "    </tr>\n",
       "    <tr>\n",
       "      <th>3</th>\n",
       "      <td>7479</td>\n",
       "      <td>miscellaneous</td>\n",
       "      <td>Which of the following terms refers to Archaic...</td>\n",
       "      <td>Caryatids</td>\n",
       "      <td>Telamones</td>\n",
       "      <td>Discoboloi</td>\n",
       "      <td>Kouroi</td>\n",
       "      <td>D</td>\n",
       "    </tr>\n",
       "    <tr>\n",
       "      <th>4</th>\n",
       "      <td>10377</td>\n",
       "      <td>professional accounting</td>\n",
       "      <td>The purpose of establishing quality control po...</td>\n",
       "      <td>Provide reasonable assurance that personnel ar...</td>\n",
       "      <td>Minimize the likelihood of associating with cl...</td>\n",
       "      <td>Document the matters that are required to be c...</td>\n",
       "      <td>Enhance the auditor's understanding of the cli...</td>\n",
       "      <td>B</td>\n",
       "    </tr>\n",
       "  </tbody>\n",
       "</table>\n",
       "</div>"
      ],
      "text/plain": [
       "     qid                 category  \\\n",
       "0  12605  professional psychology   \n",
       "1   6952               management   \n",
       "2  12908  professional psychology   \n",
       "3   7479            miscellaneous   \n",
       "4  10377  professional accounting   \n",
       "\n",
       "                                            question  \\\n",
       "0  \"You would use a \"\"multitrait-multimethod matr...   \n",
       "1                   What is a Gantt chart a type of?   \n",
       "2  Which of the following is not represented in D...   \n",
       "3  Which of the following terms refers to Archaic...   \n",
       "4  The purpose of establishing quality control po...   \n",
       "\n",
       "                                                   A  \\\n",
       "0  compare a test''s predictive and concurrent va...   \n",
       "1                                   Work flow design   \n",
       "2                                          Tolerance   \n",
       "3                                          Caryatids   \n",
       "4  Provide reasonable assurance that personnel ar...   \n",
       "\n",
       "                                                   B  \\\n",
       "0  determine if a test has adequate convergent an...   \n",
       "1                               Work schedule design   \n",
       "2                                         Withdrawal   \n",
       "3                                          Telamones   \n",
       "4  Minimize the likelihood of associating with cl...   \n",
       "\n",
       "                                                   C  \\\n",
       "0  identify the common factors underlying a set o...   \n",
       "1                                   Work rate design   \n",
       "2                                     Legal problems   \n",
       "3                                         Discoboloi   \n",
       "4  Document the matters that are required to be c...   \n",
       "\n",
       "                                                   D answer  \n",
       "0  test hypotheses about the causal relationships...      B  \n",
       "1                                 Work output design      B  \n",
       "2                                              Lying      C  \n",
       "3                                             Kouroi      D  \n",
       "4  Enhance the auditor's understanding of the cli...      B  "
      ]
     },
     "metadata": {},
     "output_type": "display_data"
    }
   ],
   "source": [
    "questions = sample(dataset.questions, k=n_questions)\n",
    "display_questions(questions)"
   ]
  },
  {
   "cell_type": "code",
   "execution_count": 13,
   "id": "2597152e-0d3b-4c3e-80f2-29af1222eec0",
   "metadata": {},
   "outputs": [
    {
     "data": {
      "text/plain": [
       "72.0"
      ]
     },
     "execution_count": 13,
     "metadata": {},
     "output_type": "execute_result"
    }
   ],
   "source": [
    "score = evaluate_generator(generator, questions=questions, n_shots=n_shots, examples=dataset.examples)\n",
    "score"
   ]
  },
  {
   "cell_type": "markdown",
   "id": "15fbd538-5501-4bdb-ad2c-dfb62982bd79",
   "metadata": {},
   "source": [
    "# Comparing 0-shot to 5-shot"
   ]
  },
  {
   "cell_type": "code",
   "execution_count": 18,
   "id": "279306a4-a7d3-4917-8899-141abf0dc6da",
   "metadata": {},
   "outputs": [],
   "source": [
    "metrics = []"
   ]
  },
  {
   "cell_type": "code",
   "execution_count": 19,
   "id": "222c7cac-c7a9-4e52-a445-788a070f087d",
   "metadata": {},
   "outputs": [
    {
     "data": {
      "application/vnd.jupyter.widget-view+json": {
       "model_id": "8acacddd34774c4b8525c140fe977847",
       "version_major": 2,
       "version_minor": 0
      },
      "text/plain": [
       "Iteration:   0%|          | 0/3 [00:00<?, ?it/s]"
      ]
     },
     "metadata": {},
     "output_type": "display_data"
    },
    {
     "data": {
      "application/vnd.jupyter.widget-view+json": {
       "model_id": "f5bb03ad369b422ea70f39d8d4b0de78",
       "version_major": 2,
       "version_minor": 0
      },
      "text/plain": [
       "Shots:   0%|          | 0/6 [00:00<?, ?it/s]"
      ]
     },
     "metadata": {},
     "output_type": "display_data"
    },
    {
     "data": {
      "application/vnd.jupyter.widget-view+json": {
       "model_id": "bbe260b10713488380e6bf253258a807",
       "version_major": 2,
       "version_minor": 0
      },
      "text/plain": [
       "Questions:   0%|          | 0/25 [00:00<?, ?it/s]"
      ]
     },
     "metadata": {},
     "output_type": "display_data"
    },
    {
     "data": {
      "application/vnd.jupyter.widget-view+json": {
       "model_id": "daab3f6357b24d408bf2dfdc92a53f09",
       "version_major": 2,
       "version_minor": 0
      },
      "text/plain": [
       "Questions:   0%|          | 0/25 [00:00<?, ?it/s]"
      ]
     },
     "metadata": {},
     "output_type": "display_data"
    },
    {
     "data": {
      "application/vnd.jupyter.widget-view+json": {
       "model_id": "6d83361baca645bc9f25366a83d4a8b0",
       "version_major": 2,
       "version_minor": 0
      },
      "text/plain": [
       "Questions:   0%|          | 0/25 [00:00<?, ?it/s]"
      ]
     },
     "metadata": {},
     "output_type": "display_data"
    },
    {
     "data": {
      "application/vnd.jupyter.widget-view+json": {
       "model_id": "b90135036aab4a038c4bf95913522907",
       "version_major": 2,
       "version_minor": 0
      },
      "text/plain": [
       "Questions:   0%|          | 0/25 [00:00<?, ?it/s]"
      ]
     },
     "metadata": {},
     "output_type": "display_data"
    },
    {
     "data": {
      "application/vnd.jupyter.widget-view+json": {
       "model_id": "5dba5760a75548b8b5256f86d1046a2f",
       "version_major": 2,
       "version_minor": 0
      },
      "text/plain": [
       "Questions:   0%|          | 0/25 [00:00<?, ?it/s]"
      ]
     },
     "metadata": {},
     "output_type": "display_data"
    },
    {
     "data": {
      "application/vnd.jupyter.widget-view+json": {
       "model_id": "6ef73f2f3a2940ae854ee785c92f3b5b",
       "version_major": 2,
       "version_minor": 0
      },
      "text/plain": [
       "Questions:   0%|          | 0/25 [00:00<?, ?it/s]"
      ]
     },
     "metadata": {},
     "output_type": "display_data"
    },
    {
     "data": {
      "application/vnd.jupyter.widget-view+json": {
       "model_id": "5aee831e397c4864824d65ef0b131cef",
       "version_major": 2,
       "version_minor": 0
      },
      "text/plain": [
       "Shots:   0%|          | 0/6 [00:00<?, ?it/s]"
      ]
     },
     "metadata": {},
     "output_type": "display_data"
    },
    {
     "data": {
      "application/vnd.jupyter.widget-view+json": {
       "model_id": "1bf2f3cb11094bdd8c8dafd4ae49206e",
       "version_major": 2,
       "version_minor": 0
      },
      "text/plain": [
       "Questions:   0%|          | 0/25 [00:00<?, ?it/s]"
      ]
     },
     "metadata": {},
     "output_type": "display_data"
    },
    {
     "data": {
      "application/vnd.jupyter.widget-view+json": {
       "model_id": "446b8cd8ba8d4ed5a7cc63d729e4fef5",
       "version_major": 2,
       "version_minor": 0
      },
      "text/plain": [
       "Questions:   0%|          | 0/25 [00:00<?, ?it/s]"
      ]
     },
     "metadata": {},
     "output_type": "display_data"
    },
    {
     "data": {
      "application/vnd.jupyter.widget-view+json": {
       "model_id": "4a2304412fc14d51a4fa86bc1781fc0e",
       "version_major": 2,
       "version_minor": 0
      },
      "text/plain": [
       "Questions:   0%|          | 0/25 [00:00<?, ?it/s]"
      ]
     },
     "metadata": {},
     "output_type": "display_data"
    },
    {
     "data": {
      "application/vnd.jupyter.widget-view+json": {
       "model_id": "b148ad73e76f4a049c456314e4550091",
       "version_major": 2,
       "version_minor": 0
      },
      "text/plain": [
       "Questions:   0%|          | 0/25 [00:00<?, ?it/s]"
      ]
     },
     "metadata": {},
     "output_type": "display_data"
    },
    {
     "data": {
      "application/vnd.jupyter.widget-view+json": {
       "model_id": "d5a7c8df49ad4f4ebdd78452cdf06cf3",
       "version_major": 2,
       "version_minor": 0
      },
      "text/plain": [
       "Questions:   0%|          | 0/25 [00:00<?, ?it/s]"
      ]
     },
     "metadata": {},
     "output_type": "display_data"
    },
    {
     "data": {
      "application/vnd.jupyter.widget-view+json": {
       "model_id": "158ecd999c2c41a18acba7be820a1d54",
       "version_major": 2,
       "version_minor": 0
      },
      "text/plain": [
       "Questions:   0%|          | 0/25 [00:00<?, ?it/s]"
      ]
     },
     "metadata": {},
     "output_type": "display_data"
    },
    {
     "data": {
      "application/vnd.jupyter.widget-view+json": {
       "model_id": "c453cc0c06dc4638a79b83a9a4d9b390",
       "version_major": 2,
       "version_minor": 0
      },
      "text/plain": [
       "Shots:   0%|          | 0/6 [00:00<?, ?it/s]"
      ]
     },
     "metadata": {},
     "output_type": "display_data"
    },
    {
     "data": {
      "application/vnd.jupyter.widget-view+json": {
       "model_id": "a6a0321260614d8c857c6e9bac117bed",
       "version_major": 2,
       "version_minor": 0
      },
      "text/plain": [
       "Questions:   0%|          | 0/25 [00:00<?, ?it/s]"
      ]
     },
     "metadata": {},
     "output_type": "display_data"
    },
    {
     "data": {
      "application/vnd.jupyter.widget-view+json": {
       "model_id": "27ca6f9c378c4272bddda7a7ffb95ea0",
       "version_major": 2,
       "version_minor": 0
      },
      "text/plain": [
       "Questions:   0%|          | 0/25 [00:00<?, ?it/s]"
      ]
     },
     "metadata": {},
     "output_type": "display_data"
    },
    {
     "data": {
      "application/vnd.jupyter.widget-view+json": {
       "model_id": "42a31b05bdfe44c0b040dd69ab69ce69",
       "version_major": 2,
       "version_minor": 0
      },
      "text/plain": [
       "Questions:   0%|          | 0/25 [00:00<?, ?it/s]"
      ]
     },
     "metadata": {},
     "output_type": "display_data"
    },
    {
     "data": {
      "application/vnd.jupyter.widget-view+json": {
       "model_id": "abfbc37f7c054afc9aad71e01a18f3da",
       "version_major": 2,
       "version_minor": 0
      },
      "text/plain": [
       "Questions:   0%|          | 0/25 [00:00<?, ?it/s]"
      ]
     },
     "metadata": {},
     "output_type": "display_data"
    },
    {
     "data": {
      "application/vnd.jupyter.widget-view+json": {
       "model_id": "8f0dd2481338472fb67edd64f1383c1e",
       "version_major": 2,
       "version_minor": 0
      },
      "text/plain": [
       "Questions:   0%|          | 0/25 [00:00<?, ?it/s]"
      ]
     },
     "metadata": {},
     "output_type": "display_data"
    },
    {
     "data": {
      "application/vnd.jupyter.widget-view+json": {
       "model_id": "f3290b277cd84944b21062b6b9c87575",
       "version_major": 2,
       "version_minor": 0
      },
      "text/plain": [
       "Questions:   0%|          | 0/25 [00:00<?, ?it/s]"
      ]
     },
     "metadata": {},
     "output_type": "display_data"
    }
   ],
   "source": [
    "for i in trange(n_iterations, desc=\"Iteration\", position=0):    \n",
    "    questions = sample(dataset.questions, k=n_questions)\n",
    "\n",
    "    scores = {}\n",
    "    for n_shots in trange(6, desc=\"Shots\", position=1, leave=False):\n",
    "        scores[n_shots] = evaluate_generator(\n",
    "            generator,\n",
    "            questions=tqdm(questions, desc=\"Questions\", position=2, leave=False), \n",
    "            n_shots=n_shots, \n",
    "            examples=dataset.examples,\n",
    "        )\n",
    "    \n",
    "    metrics.append(scores)"
   ]
  },
  {
   "cell_type": "code",
   "execution_count": 20,
   "id": "4d97c7fa-7cd5-46b3-967c-02f2024afc94",
   "metadata": {},
   "outputs": [
    {
     "data": {
      "image/png": "[encoded data removed]",
      "text/plain": [
       "<Figure size 1500x400 with 3 Axes>"
      ]
     },
     "metadata": {},
     "output_type": "display_data"
    }
   ],
   "source": [
    "fig, axs = plt.subplots(ncols=n_iterations, figsize=(15,4))\n",
    "for i, scores in enumerate(metrics):\n",
    "    axs[i].scatter(x=[k for k in scores], y=[scores[k] for k in scores])\n",
    "    axs[i].set_title(f\"Iteration {i}\")"
   ]
  },
  {
   "cell_type": "code",
   "execution_count": null,
   "id": "ce6f5cca-7e91-4e2c-8fba-af0d6e06bc0b",
   "metadata": {},
   "outputs": [],
   "source": []
  }
 ],
 "metadata": {
  "kernelspec": {
   "display_name": "Python 3 (ipykernel)",
   "language": "python",
   "name": "python3"
  },
  "language_info": {
   "codemirror_mode": {
    "name": "ipython",
    "version": 3
   },
   "file_extension": ".py",
   "mimetype": "text/x-python",
   "name": "python",
   "nbconvert_exporter": "python",
   "pygments_lexer": "ipython3",
   "version": "3.12.6"
  }
 },
 "nbformat": 4,
 "nbformat_minor": 5
}
